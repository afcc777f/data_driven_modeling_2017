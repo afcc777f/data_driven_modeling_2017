{
 "cells": [
  {
   "cell_type": "markdown",
   "metadata": {},
   "source": [
    "# MACHINE LEARNING AND DATA STREAMS\n",
    "## A new and orthogonal view to the disciplinary research\n",
    "<hr style=\"height:3px;border:none;color:stillblue;background-color:black;\" />\n",
    "### Technical PhD seminar series at Chair for Computer Aided Architectural Design (CAAD), ETH Zurich\n",
    "\n",
    "\n",
    "[Vahid Moosavi](https://vahidmoosavi.com/)\n",
    "<hr style=\"height:1px;border:none;color:stillblue;background-color:black;\" />"
   ]
  },
  {
   "cell_type": "markdown",
   "metadata": {},
   "source": [
    "<a></a>\n",
    "\n",
    "# First Session: Introduction \n",
    "<hr style=\"height:1px;border:none;color:stillblue;background-color:steelblue;\" />\n",
    "<hr style=\"height:1px;border:none;color:stillblue;background-color:black;\" />\n",
    "\n",
    "<span style=\"color:steelblue;font-size: 1em;\"> 03 October 2017</span>"
   ]
  },
  {
   "cell_type": "markdown",
   "metadata": {},
   "source": [
    "### <a></a>\n",
    "<hr style=\"height:3px;border:none;color:stillblue;background-color:black;\" />\n",
    "## The general set up of these seminar series:\n",
    "### Get familiar with the state of the art in Machine Learning algorithms and applications.\n",
    "### Engage in this field (if you see the promise) by focusing on your application of interest.\n",
    "### <a></a>\n",
    "### <a></a>\n",
    "<hr style=\"height:3px;border:none;color:stillblue;background-color:black;\" />\n"
   ]
  },
  {
   "cell_type": "markdown",
   "metadata": {},
   "source": [
    "# The Historical View to the Landscape of Computational Modeling  "
   ]
  },
  {
   "cell_type": "markdown",
   "metadata": {},
   "source": [
    "![](Images/Computational Capacities.png)\n",
    "# Corresponding to each  of these three periods of computation\n",
    "\n",
    "## Primary modes of computation\n",
    "### 1-Main Frames\n",
    "### 2-PC and Internet\n",
    "### 3- Ubiquitous computing and social media \n",
    "\n",
    "\n",
    "## Modeling Aproaches\n",
    "### 1-Centralized models (representational)\n",
    "* **Systems of equations (e.g. Computational Fluid Dynamics,CFD)**\n",
    "![](Images/CFD.jpeg)\n",
    "\n",
    "### 2-Decentralized models (representational)\n",
    "* **Agent based and multiagent systems, cellular automata**\n",
    "![](Images/CA.gif)\n",
    "From Wolfram research\n",
    "\n",
    "#### more complex patterns\n",
    "![](Images/CA1.jpg)\n",
    "From http://psychedelic-information-theory.com/cellular-automata\n",
    "\n",
    "### Also for fluid simulations, where we can write rules of interaction\n",
    "![](Images/CA_water.gif)\n",
    "From http://cowboyprogramming.com/2008/04/01/practical-fluid-mechanics/\n",
    "\n",
    "# 3-Learning Models (Our focus)\n",
    "* **Machine learning and data streams**\n"
   ]
  },
  {
   "cell_type": "markdown",
   "metadata": {},
   "source": [
    "\n",
    "# A major shift: \n",
    "# Knowing Vs. Learning (Theory Driven Vs. Data Driven) \n",
    "\n",
    "### <a></a>\n",
    "## <center>The primary role of Data in Data Driven Modeling</center>\n",
    "### <a></a>\n",
    "![](Images/TheoryDrivenDataDriven.png)\n",
    "### <a></a>\n",
    "\n",
    "## Examples on challenging domains for theory driven modeling\n",
    "### Translation (from one spoken language to another)\n",
    "### Other examples: How do you design a comfortable building? \n",
    "### Do we know how people move in the city?\n",
    "### Do we know how much people would pay for each product? \n",
    "\n",
    "\n",
    "\n",
    "<a></a>\n",
    "<hr style=\"height:3px;border:none;color:stillblue;background-color:black;\" />\n",
    "\n",
    "<a></a>\n",
    "<a></a>\n",
    "\n",
    "# Further here with learning models:\n",
    "## 1-No more idealization\n",
    "## 2-They can solve the issue of Integration in multifaceted environments\n",
    "## 3-Non-Representational\n",
    "## 4-End to End models or targeted models\n",
    "\n",
    "![](Images/seq2seq.png)\n",
    "\n",
    "# <a></a>\n"
   ]
  },
  {
   "cell_type": "markdown",
   "metadata": {},
   "source": [
    "# With this new language we can talk science differently!\n",
    "\n",
    "\n",
    "![](Images/orthogonal.png)\n",
    "#### Adopted from the original ideas of General Systems Theory\n"
   ]
  },
  {
   "cell_type": "markdown",
   "metadata": {},
   "source": [
    "# Machine learning as A LANGUAGE\n",
    "\n",
    "# How to learn it?\n",
    "## 0- Definitely not pedagogical!\n",
    "## 1-A bit of structure and grammer\n",
    "* **Main definitions**\n",
    "* **linear algebra**\n",
    "* **Optimization**\n",
    "* **Probablity theory and statistics**\n",
    "* **Algorithms**\n",
    "## 2- But mainly practice and engagment (project oriented)\n",
    "## 3- Guessing, hacking and copy-pasting! (plug and play machine learning)\n",
    "<a></a>\n",
    "<a></a>\n",
    "\n",
    "\n",
    "![](Images/DataDrivenModelingKW.png)"
   ]
  },
  {
   "cell_type": "markdown",
   "metadata": {},
   "source": [
    "# Some of the applications that we try to cover\n",
    "* **Design space exploration**\n",
    "\t* Structural engineering \n",
    "\t* Computational drug design and chemistry\n",
    "* **Exploring cities with data streams**\n",
    "\t* Urban morphology and spatial analysis using network analysis and machine learning techniques\n",
    "\t* Geo-mapping with high dimensional data sets\n",
    "\t* City pattern mining: How to read and explore cities at the age of Big Data\n",
    "\t* Unconventional data streams: Location based social networks including Twits, texts, images Google street view images, Wikipedia entries and web crawling as new sensory systems in cities\n",
    "* **Data driven simulation**\n",
    "\t* Learning physics and model reduction next to fluid dynamics: Water flow, wind flow and air pollution at different scales\n",
    "\t* Urban traffic modeling with mobile phone data or GPS traces\n",
    "* **Urban economy and real estate market** \n",
    "* **Time series forecasting in financial markets**\n",
    "* **Networks and systemic risk**\n",
    "\t* Energy networks\n",
    "\t* Flight networks\n",
    "\t* Economic networks \n",
    "* **Dynamical systems and control**\n",
    "\t* Dynamic resource allocation: CPUs, clouds, manufacturing job shops \n",
    "\t* Smart home (e.g. data driven learning of comfort for the users)\n",
    "\t* Dynamic pricing and planning: (e.g. tolls, lights, tickets)\n",
    "* **Natural language modeling applications** \n",
    "\t* Sentiment analysis\n",
    "\t* Topic modeling\n",
    "\t* Smart news\n",
    "* **Atmospheric science geophysical applications**\n",
    "\t* Tele connection \n",
    "\t* Effect of cyclone on ice core accumulation \n",
    "* **Image processing and remote sensing applications** \n",
    "\t* Detecting informal settlements from satellite images"
   ]
  },
  {
   "cell_type": "markdown",
   "metadata": {},
   "source": [
    "# Some Interesting examples"
   ]
  },
  {
   "cell_type": "markdown",
   "metadata": {},
   "source": [
    "## Image Segmentation and semantic Labeling"
   ]
  },
  {
   "cell_type": "code",
   "execution_count": 6,
   "metadata": {
    "collapsed": false
   },
   "outputs": [
    {
     "data": {
      "image/jpeg": "[encoded data removed]",
      "text/html": [
       "\n",
       "        <iframe\n",
       "            width=\"700\"\n",
       "            height=\"600\"\n",
       "            src=\"https://www.youtube.com/embed/ZJMtDRbqH40\"\n",
       "            frameborder=\"0\"\n",
       "            allowfullscreen\n",
       "        ></iframe>\n",
       "        "
      ],
      "text/plain": [
       "<IPython.lib.display.YouTubeVideo at 0x109ca8c10>"
      ]
     },
     "execution_count": 6,
     "metadata": {},
     "output_type": "execute_result"
    }
   ],
   "source": [
    "from IPython.display import YouTubeVideo\n",
    "YouTubeVideo('ZJMtDRbqH40',width=700, height=600)"
   ]
  },
  {
   "cell_type": "markdown",
   "metadata": {},
   "source": [
    "## Detecting informal settlements from satellite images\n",
    "![](Images/4.png)\n",
    "![](Images/4_mask.png)\n",
    "\n",
    "## Medical imaging\n"
   ]
  },
  {
   "cell_type": "markdown",
   "metadata": {},
   "source": [
    "# Digital Humanities Applications (Mainly indexing Applications)\n",
    "https://avindhsig.files.wordpress.com/2017/07/dh2017-av-sig-keynoteweb-leonard-king.pdf\n",
    "\n",
    "### Japanese Woodblock Print Search with metha-data (more than 220K prints)\n",
    "\n",
    "https://ukiyo-e.org/"
   ]
  },
  {
   "cell_type": "markdown",
   "metadata": {},
   "source": [
    "# Urban Studies\n",
    "https://sevamoo.github.io/cityastext/\n",
    "\n"
   ]
  },
  {
   "cell_type": "markdown",
   "metadata": {},
   "source": [
    "## Learning Physics \n",
    "### Here mainly for speed ups"
   ]
  },
  {
   "cell_type": "code",
   "execution_count": 5,
   "metadata": {
    "collapsed": false
   },
   "outputs": [
    {
     "data": {
      "image/jpeg": "[encoded data removed]",
      "text/html": [
       "\n",
       "        <iframe\n",
       "            width=\"700\"\n",
       "            height=\"600\"\n",
       "            src=\"https://www.youtube.com/embed/55rsJI11FOA\"\n",
       "            frameborder=\"0\"\n",
       "            allowfullscreen\n",
       "        ></iframe>\n",
       "        "
      ],
      "text/plain": [
       "<IPython.lib.display.YouTubeVideo at 0x109c67210>"
      ]
     },
     "execution_count": 5,
     "metadata": {},
     "output_type": "execute_result"
    }
   ],
   "source": [
    "from IPython.display import YouTubeVideo\n",
    "YouTubeVideo('55rsJI11FOA',width=700, height=600)"
   ]
  },
  {
   "cell_type": "markdown",
   "metadata": {},
   "source": [
    "# Multi-Agent Based models and learning\n",
    "* http://otoro.net/ml/planks/index.html\n",
    "* http://otoro.net/ml/\n",
    "\n",
    "\n",
    "## But there in real applications we usually have the problem of communication among agents"
   ]
  },
  {
   "cell_type": "markdown",
   "metadata": {},
   "source": [
    "# Generative models\n",
    "## The current bottleneck in machine learning\n",
    "\n",
    "\n",
    "### Sketch_RNN\n",
    "https://magenta.tensorflow.org/sketch-rnn-demo\n",
    "\n",
    "\n",
    "\n",
    "### Generative Adverserial Networks (GAN) (very active area!)\n",
    "\n",
    "#### Interpolations and generation from the learned latent space\n",
    "[BEGAN: Boundary Equilibrium Generative Adversarial Networks](https://arxiv.org/pdf/1703.10717.pdf) \n",
    "![](Images/BEGAN.png)\n",
    "\n",
    "\n",
    "\n",
    "#### 25k 19th century portraits; results seem good. These people have never existed:\n",
    "![](Images/GAN_Port.jpg)\n",
    "credit:https://twitter.com/pleonard/status/914671877146206208\n",
    "\n",
    "\n",
    "# Music generation:\n",
    "### A comprehensive review: \n",
    "https://medium.com/artists-and-machine-intelligence/neural-nets-for-generating-music-f46dffac21c0\n",
    "\n",
    "\n",
    "\n",
    "# Face2Face"
   ]
  },
  {
   "cell_type": "code",
   "execution_count": 8,
   "metadata": {
    "collapsed": false
   },
   "outputs": [
    {
     "data": {
      "image/jpeg": "[encoded data removed]",
      "text/html": [
       "\n",
       "        <iframe\n",
       "            width=\"700\"\n",
       "            height=\"600\"\n",
       "            src=\"https://www.youtube.com/embed/ohmajJTcpNk\"\n",
       "            frameborder=\"0\"\n",
       "            allowfullscreen\n",
       "        ></iframe>\n",
       "        "
      ],
      "text/plain": [
       "<IPython.lib.display.YouTubeVideo at 0x109cc3f90>"
      ]
     },
     "execution_count": 8,
     "metadata": {},
     "output_type": "execute_result"
    }
   ],
   "source": [
    "from IPython.display import YouTubeVideo\n",
    "YouTubeVideo('ohmajJTcpNk',width=700, height=600)"
   ]
  },
  {
   "cell_type": "markdown",
   "metadata": {},
   "source": [
    "## COURSE MATERIALS\n",
    "\n",
    "### Chapter 1: Determinism and scientific modeling\n",
    "* History of determinism\n",
    "* Newtonian mechanics and rapid growth of science\n",
    "* To believe in objective truth\n",
    "* Determinism and the belief in equations\n",
    "* Laplace's demon\n",
    "* Limits to determinism\n",
    "* Non-predictable determinism and chaotic systems\n",
    "\n",
    "[Lecture notes](https://sevamoo.github.io/presentations_repo/02_Determinism_And_Probability_Theory_20160927.html)\n",
    "\n",
    "### Chapter 2: Probability and statistics (Introduction)\n",
    "* Uncertainty and randomness\n",
    "* Principles of probability theory\n",
    "* Random variable and probability distributions\n",
    "* Functions of random variables\n",
    "* Law of large numbers\n",
    "* Central limit theorem\n",
    "* Statistical measures\n",
    "* Expected value (average)\n",
    "* Variance\n",
    "* Median\n",
    "* Mode\n",
    "* Momentums and higher order statistics\n",
    "* Skewness, tails and kurtosis\n",
    "* Covariance\n",
    "* Scatter matrix\n",
    "* Correlation\n",
    "\n",
    "[Lecture notes](https://sevamoo.github.io/presentations_repo/03_From_Probability_to_Statistics_20161004.html)\n",
    "\n",
    "### Chapter 3: Kernel density estimation and least squares method\n",
    "* Density learning rather than known distributions\n",
    "* Meta-parameters in machine learning\n",
    "* Gaussian kernel density estimation\n",
    "* Regression problem\n",
    "* Least squares method\n",
    "* Linear regression\n",
    "* Polynomial regression\n",
    "* Local polynomial regression\n",
    "\n",
    "[Lecture notes](https://sevamoo.github.io/presentations_repo/04_KDE_Least_Squares_Method_Regression_20161011.html)\n",
    "\n",
    "### Chapter 4: Linear transformations: Principal Component Analysis (PCA)\n",
    "* Linear algebra and matrix operations (introduction)\n",
    "* Linear space transformations\n",
    "* Principal Component Analysis (PCA) \n",
    "* Extensions to PCA\n",
    "* Sparse Coding (SC)\n",
    "\n",
    "[Lecture notes](https://sevamoo.github.io/presentations_repo/05_PCA_Sparce_Coding_20161018.html)\n",
    "\n",
    "### Chapter 5: Data clustering\n",
    "* K-Means\n",
    "* Limits and Extensions\n",
    "* Probabilistic clustering: Gaussian mixture models \n",
    "* Density based clustering\n",
    "* DBSCAN\n",
    "* Fundamental limits to classical notion of clusters and community detection\n",
    "* Clustering as feature learning in comparison to PCA and sparse coding\n",
    "* Clustering as space indexing\n",
    "\n",
    "[Lecture notes](https://sevamoo.github.io/presentations_repo/06_Clustering_Kmeans_DBSCAN_20161101.html)\n",
    "\n",
    "### Chapter 6: Self Organizing Maps (SOM)\n",
    "* Vector quantization\n",
    "* Manifold learning \n",
    "* Topology preserving dimensionality reduction\n",
    "* Dimensionality reduction and nonlinear space transformation\n",
    "* Visualization of high dimensional spaces\n",
    "* Clustering and classification with SOM\n",
    "* Function approximation\n",
    "* Transfer function: Multidirectional function approximation\n",
    "* Non-parametric probability density estimation\n",
    "* Filling missing values\n",
    "* Resampling\n",
    "* Data reduction \n",
    "* Contextual Numbers\n",
    "\n",
    "[Lecture notes](https://sevamoo.github.io/presentations_repo/07_Self_Organizing_Maps_20161108.html)\n",
    "\n",
    "### Chapter 7: Markov chains and dynamical systems\n",
    "* History of Markov chains\n",
    "* Random walks\n",
    "* Transition matrix and linear operators\n",
    "* Typology of Markov chains\n",
    "* Steady state probabilities and PageRank\n",
    "* State space explosion\n",
    "* Relations of Markov chains and Markov Decision Process (MDP)\n",
    "* Mixing times\n",
    "* Recurrence time\n",
    "* Mean first passage time\n",
    "* Kemeny Constant\n",
    "* Sensitivity analysis of the transition matrix\n",
    "* Applications to economic networks, traffic and text\n",
    "\n",
    "[Lecture notes](https://sevamoo.github.io/presentations_repo/08_Markov_Chains_Dynamical_Systems_20161122.html)\n",
    "\n",
    "### Chapter 8: Markov chains, relational representation and natural language models\n",
    "* Rational representation: Representation of objects based on a priori given features\n",
    "* Relational representation: Representation of objects based on their contexts\n",
    "* Abstract and concrete universals\n",
    "* Markov chains, probabilistic networks and co-occurrence matrix\n",
    "* Neural embedding for network based representations\n",
    "* Neuro-probabilistic models of the language\n",
    "* Word2Vec and Doc2Vec models\n",
    "* Applied natural language modeling problems\n",
    "\n",
    "[Lecture notes](https://sevamoo.github.io/presentations_repo/09_Relational_Representation_Text_Modeling_20161129.html)\n",
    "\n",
    "### Chapter 9: Deep neural networks (Auto-encoders)\n",
    "* Representation learning\n",
    "* Local representation (usually in manifold learning) of objects\n",
    "* Distributed representation of objects\n",
    "* Data compression\n",
    "* Stacking PCA layers\n",
    "* Multi-Layer Perceptron (MLP) networks \n",
    "* Architectural diversity of deep networks\n",
    "* Tensorflow\n",
    "\n",
    "[Lecture notes](https://sevamoo.github.io/presentations_repo/10_AutoEncoders_20161206.html)\n",
    "\n",
    "### Chapter 10: Ensemble models: When the randomization is a resource.\n",
    "* Meta-Level parameters for machine learning algorithms\n",
    "* Randomization as a resource\n",
    "* Bootstrap aggregating, also called bagging (Independent learners)\n",
    "* Boosting (Sequentially improving learners)\n",
    "* Decision trees\n",
    "* Ensemble of weak learners: Random forests and extra trees \n",
    "* Supervised and unsupervised ensembles\n",
    "\n",
    "[Lecture notes](https://sevamoo.github.io/presentations_repo/12_Ensemble_Models_20170307.html)\n",
    "\n",
    "### Chapter 12: Data driven modeling in practice\n",
    "* Data collections and APIs\n",
    "* Data wrangling\n",
    "* Bias variance tradeoff\n",
    "* Over and under fitting\n",
    "* Grid search and cross validation\n",
    "* Out of sample validation\n",
    "* Measures of performance\n",
    "* Precision/ recall\n",
    "* Machine learning as a service\n",
    "* Deploying the model on a server\n",
    "* Serving trained models on a server\n",
    "\n",
    "[Lecture notes](https://sevamoo.github.io/presentations_repo/13_Data_Driven_Modeling_in_Practice_Real_Estate_Market_20170314.html)\n",
    "\n",
    "### Chapter 13: Fourier analysis for signal processing\n",
    "* Signal processing for data driven modeling\n",
    "* Translation invariance\n",
    "* Rotation invariance\n",
    "* Scale invariance \n",
    "* Deformation\n",
    "* Harmonic Analysis, Fourier series and idealized filters\n",
    "* Fourier transform in 1D and 2D signals (e.g. sounds and images)\n",
    "* Limits of feature engineering in complex environments\n",
    "\n",
    "[Lecture notes](https://sevamoo.github.io/presentations_repo/14_Introduction_to_Representation_Learning_Fourier_Analysis_20170404.html)\n",
    "\n",
    "### Chapter 14: (Deep learning) Convolutional neural nets\n",
    "* Feature engineering and feature (representation) learning\n",
    "* Convolution and kernels in mathematics\n",
    "* Convolutional Neural Networks (CNN)\n",
    "* Hierarchical representation and compositionality\n",
    "* CNN for supervised and unsupervised tasks \n",
    "* CNN for image processing \n",
    "* CNN for non-Euclidean and graphical data\n",
    "\n",
    "[Lecture notes](https://sevamoo.github.io/presentations_repo/15_Introduction_to_Representation_Learning_Convolutional_Neural_Nets_20170411.html)\n",
    "\n",
    "### Chapter 15: (Deep Learning) Recurrent neural nets\n",
    "* Feed forward networks vs. recurrent networks \n",
    "* Sequential data analysis \n",
    "* Long Short-Term Memory (LSTM) networks\n",
    "* Recurrent neural nets as universal Turing machines\n",
    "* Range of applications\n",
    "\n",
    "[Lecture notes](https://sevamoo.github.io/presentations_repo/16_Introduction_to_Recurrent_Neural_Nets_20170425.html)\n",
    "\n",
    "### Chapter 16: (Deep Learning) Recurrent neural nets and dynamical systems\n",
    "* Applications to dynamical systems\n",
    "* Chaotic systems\n",
    "* Time series forecasting\n",
    "* Text generation\n",
    "\n",
    "[Lecture notes](https://sevamoo.github.io/presentations_repo/17_Recurrent_Neural_Nets_Dynamical_Systems_20170502.html)\n",
    "\n",
    "### Chapter 17: Introduction to reinforcement learning and agent based learning\n",
    "* Reinforcement Learning as the problem of agent based learning\n",
    "* Markov Decision Process (MDP)\n",
    "* Main approaches and architectures in reinforcement learning \n",
    "* Applications of reinforcement learning for planning and control\n",
    "* Deep reinforcement learning \n",
    "\n",
    "[Lecture notes](https://sevamoo.github.io/presentations_repo/18_Introduction_to_Reinforcement_Learning_20170509.html)"
   ]
  },
  {
   "cell_type": "markdown",
   "metadata": {},
   "source": [
    "# Thanks! "
   ]
  }
 ],
 "metadata": {
  "anaconda-cloud": {},
  "kernelspec": {
   "display_name": "Python [default]",
   "language": "python",
   "name": "python2"
  },
  "language_info": {
   "codemirror_mode": {
    "name": "ipython",
    "version": 2
   },
   "file_extension": ".py",
   "mimetype": "text/x-python",
   "name": "python",
   "nbconvert_exporter": "python",
   "pygments_lexer": "ipython2",
   "version": "2.7.13"
  }
 },
 "nbformat": 4,
 "nbformat_minor": 0
}
