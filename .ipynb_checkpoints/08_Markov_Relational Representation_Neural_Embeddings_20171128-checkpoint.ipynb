{
 "cells": [
  {
   "cell_type": "markdown",
   "metadata": {},
   "source": [
    "# Data Driven Modeling\n",
    "<hr style=\"height:3px;border:none;color:stillblue;background-color:black;\" />\n",
    "### PhD seminar series at Chair for Computer Aided Architectural Design (CAAD), ETH Zurich\n",
    "\n",
    "\n",
    "[Vahid Moosavi](href=https://vahidmoosavi.com/>)\n",
    "<hr style=\"height:1px;border:none;color:stillblue;background-color:black;\" />"
   ]
  },
  {
   "cell_type": "markdown",
   "metadata": {},
   "source": [
    "<a></a>\n",
    "\n",
    "# Session 08 \n",
    "<hr style=\"height:1px;border:none;color:stillblue;background-color:steelblue;\" />\n",
    "<span style=\"color:steelblue;font-size: 1em;\"> 28 November 2017</span>\n"
   ]
  },
  {
   "cell_type": "markdown",
   "metadata": {},
   "source": [
    "### Topics to be discussed \n",
    "\n",
    "* **Text generation with Markov Chains**\n",
    "* **Markov Chains from the point of view of relational representation**\n",
    "* **Neuro-probablistic Models of the language**\n",
    "* ** Natural Language Modeling problems**\n"
   ]
  },
  {
   "cell_type": "code",
   "execution_count": 1,
   "metadata": {},
   "outputs": [],
   "source": [
    "import warnings\n",
    "warnings.filterwarnings(\"ignore\")\n",
    "import pandas as pd\n",
    "import numpy as np\n",
    "from matplotlib import pyplot as plt\n",
    "pd.__version__\n",
    "import sys\n",
    "from scipy import stats\n",
    "import time\n",
    "from scipy.linalg import norm\n",
    "import sompylib.sompy as SOM\n",
    "\n",
    "%matplotlib inline"
   ]
  },
  {
   "cell_type": "markdown",
   "metadata": {},
   "source": [
    "## Generative examples of Markov"
   ]
  },
  {
   "cell_type": "markdown",
   "metadata": {},
   "source": [
    "# Example of sequence of characters in English texts"
   ]
  },
  {
   "cell_type": "code",
   "execution_count": 57,
   "metadata": {},
   "outputs": [
    {
     "data": {
      "text/plain": [
       "25000"
      ]
     },
     "execution_count": 57,
     "metadata": {},
     "output_type": "execute_result"
    }
   ],
   "source": [
    "with open('./Data/IMDB_data/pos.txt','r') as infile:\n",
    "    reviews = infile.readlines()\n",
    "len(reviews)"
   ]
  },
  {
   "cell_type": "code",
   "execution_count": 58,
   "metadata": {},
   "outputs": [
    {
     "data": {
      "text/plain": [
       "'Bromwell High is a cartoon comedy. It ran at the same time as some other programs about school life, such as \"Teachers\". My 35 years in the teaching profession lead me to believe that Bromwell High\\'s satire is much closer to reality than is \"Teachers\". The scramble to survive financially, the insightful students who can see right through their pathetic teachers\\' pomp, the pettiness of the whole situation, all remind me of the schools I knew and their students. When I saw the episode in which a student repeatedly tried to burn down the school, I immediately recalled ......... at .......... High. A classic line: INSPECTOR: I\\'m here to sack one of your teachers. STUDENT: Welcome to Bromwell High. I expect that many adults of my age think that Bromwell High is far fetched. What a pity that it isn\\'t!\\n'"
      ]
     },
     "execution_count": 58,
     "metadata": {},
     "output_type": "execute_result"
    }
   ],
   "source": [
    "reviews[0]"
   ]
  },
  {
   "cell_type": "code",
   "execution_count": 59,
   "metadata": {},
   "outputs": [],
   "source": [
    "def cleanText(corpus):\n",
    "    import string\n",
    "    validchars = string.ascii_letters + string.digits + ' '\n",
    "    punctuation = \"\"\".,:;?!@(){}[]$1234567890\"\"\"\n",
    "    corpus = [z.lower().replace('\\n','') for z in corpus]\n",
    "    corpus = [z.replace('<br />', ' ') for z in corpus]\n",
    "    \n",
    "    for c in punctuation:\n",
    "        corpus =[z.replace(c, '') for z in corpus]\n",
    "    \n",
    "\n",
    "    corpus = [''.join(ch for ch in z if ch in validchars) for z in corpus]\n",
    "    \n",
    "    #treat punctuation as individual words\n",
    "    for c in punctuation:\n",
    "        corpus = [z.replace(c, ' %s '%c) for z in corpus]\n",
    "#     corpus = [z.split() for z in corpus]\n",
    "    corpus = [z.replace(' ', '_') for z in corpus]\n",
    "    return corpus\n"
   ]
  },
  {
   "cell_type": "code",
   "execution_count": 60,
   "metadata": {},
   "outputs": [],
   "source": [
    "texts  = cleanText(reviews)    "
   ]
  },
  {
   "cell_type": "code",
   "execution_count": 61,
   "metadata": {},
   "outputs": [
    {
     "data": {
      "text/plain": [
       "'bromwell_high_is_a_cartoon_comedy_it_ran_at_the_same_time_as_some_other_programs_about_school_life_such_as_teachers_my__years_in_the_teaching_profession_lead_me_to_believe_that_bromwell_highs_satire_is_much_closer_to_reality_than_is_teachers_the_scramble_to_survive_financially_the_insightful_students_who_can_see_right_through_their_pathetic_teachers_pomp_the_pettiness_of_the_whole_situation_all_remind_me_of_the_schools_i_knew_and_their_students_when_i_saw_the_episode_in_which_a_student_repeatedly_tried_to_burn_down_the_school_i_immediately_recalled__at__high_a_classic_line_inspector_im_here_to_sack_one_of_your_teachers_student_welcome_to_bromwell_high_i_expect_that_many_adults_of_my_age_think_that_bromwell_high_is_far_fetched_what_a_pity_that_it_isnt'"
      ]
     },
     "execution_count": 61,
     "metadata": {},
     "output_type": "execute_result"
    }
   ],
   "source": [
    "texts[0]"
   ]
  },
  {
   "cell_type": "code",
   "execution_count": 7,
   "metadata": {},
   "outputs": [
    {
     "data": {
      "text/plain": [
       "{'_': 0,\n",
       " 'a': 1,\n",
       " 'b': 2,\n",
       " 'c': 3,\n",
       " 'd': 4,\n",
       " 'e': 5,\n",
       " 'f': 6,\n",
       " 'g': 7,\n",
       " 'h': 8,\n",
       " 'i': 9,\n",
       " 'j': 10,\n",
       " 'k': 11,\n",
       " 'l': 12,\n",
       " 'm': 13,\n",
       " 'n': 14,\n",
       " 'o': 15,\n",
       " 'p': 16,\n",
       " 'q': 17,\n",
       " 'r': 18,\n",
       " 's': 19,\n",
       " 't': 20,\n",
       " 'u': 21,\n",
       " 'v': 22,\n",
       " 'w': 23,\n",
       " 'x': 24,\n",
       " 'y': 25,\n",
       " 'z': 26}"
      ]
     },
     "execution_count": 7,
     "metadata": {},
     "output_type": "execute_result"
    }
   ],
   "source": [
    "all_chars = '_abcdefghijklmnopqrstuvwxyz'\n",
    "dictionary = {}\n",
    "for i in range(len(all_chars)):\n",
    "    dictionary[all_chars[i]] = i\n",
    "dictionary"
   ]
  },
  {
   "cell_type": "code",
   "execution_count": 8,
   "metadata": {},
   "outputs": [
    {
     "name": "stdout",
     "output_type": "stream",
     "text": [
      "25000\n"
     ]
    }
   ],
   "source": [
    "# building data with the format of sequence\n",
    "data = []\n",
    "for text in texts[:]:\n",
    "    d = []\n",
    "    for c in text:\n",
    "        d.append(dictionary[c])\n",
    "    data.append(d)\n",
    "print len(data)"
   ]
  },
  {
   "cell_type": "code",
   "execution_count": 9,
   "metadata": {},
   "outputs": [],
   "source": [
    "def buildTM_from_sequential_data(data,states,irreducible=True):\n",
    "    # each row is a sequence of observation\n",
    "    n = len(states)\n",
    "    M = np.zeros((n,n))\n",
    "    for d in data:\n",
    "        for k in range(1,len(d)):\n",
    "            i = d[k-1]\n",
    "            \n",
    "            j = d[k]\n",
    "            M[i,j]= M[i,j] + 1\n",
    "    \n",
    "    eps = .001\n",
    "    for i in range(M.shape[0]):\n",
    "        s= sum(M[i])\n",
    "        \n",
    "        if s==0:\n",
    "            if irreducible==True:\n",
    "                M[i]=eps\n",
    "                M[i,i]=1.\n",
    "                s= sum(M[i])\n",
    "                M[i]=np.divide(M[i],s)\n",
    "            else:\n",
    "                M[i,i]=1.\n",
    "        else:\n",
    "            M[i]=np.divide(M[i],s)    \n",
    "    return M\n",
    "\n",
    "\n",
    "# Power iteration Method\n",
    "def simulate_markov(TM,verbose='on'):\n",
    "    e1 = time.time()\n",
    "    states_n = TM.shape[0]\n",
    "    pi = np.ones(states_n);  pi1 = np.zeros(states_n);\n",
    "    pi = np.random.rand(states_n)\n",
    "   \n",
    "    pi = pi/pi.sum()\n",
    "    n = norm(pi - pi1); i = 0;\n",
    "    diff = []\n",
    "    while n > 1e-6 and i <1*1e4 :\n",
    "        pi1 = TM.T.dot(pi).copy()\n",
    "        n = norm(pi - pi1); i += 1\n",
    "        diff.append(n)\n",
    "        pi = pi1.copy()\n",
    "    if verbose=='on':\n",
    "        print \"Iterating {} times in {}\".format(i, time.time() - e1)\n",
    "    \n",
    "    mixing_ = i\n",
    "    return pi1,mixing_"
   ]
  },
  {
   "cell_type": "code",
   "execution_count": 10,
   "metadata": {},
   "outputs": [],
   "source": [
    "states = np.unique(dictionary.values())\n",
    "M_char = buildTM_from_sequential_data(data,states,irreducible=True)"
   ]
  },
  {
   "cell_type": "code",
   "execution_count": 11,
   "metadata": {},
   "outputs": [],
   "source": [
    "chars = np.asarray([c for c in all_chars])"
   ]
  },
  {
   "cell_type": "markdown",
   "metadata": {},
   "source": [
    "## steady state probabilites : equal to the frequencies of characters"
   ]
  },
  {
   "cell_type": "code",
   "execution_count": 12,
   "metadata": {},
   "outputs": [
    {
     "name": "stdout",
     "output_type": "stream",
     "text": [
      "Iterating 13 times in 0.000731945037842\n"
     ]
    },
    {
     "data": {
      "image/png": "[encoded data removed]",
      "text/plain": [
       "<matplotlib.figure.Figure at 0x10f9c90d0>"
      ]
     },
     "metadata": {},
     "output_type": "display_data"
    }
   ],
   "source": [
    "pi,mixing_ = simulate_markov(M_char,verbose='on')\n",
    "plt.plot(pi);\n",
    "plt.xticks(range(27),chars);\n",
    "plt.grid()"
   ]
  },
  {
   "cell_type": "code",
   "execution_count": 13,
   "metadata": {},
   "outputs": [
    {
     "data": {
      "image/png": "[encoded data removed]",
      "text/plain": [
       "<matplotlib.figure.Figure at 0x115a8d590>"
      ]
     },
     "metadata": {},
     "output_type": "display_data"
    }
   ],
   "source": [
    "fig = plt.figure(figsize=(10,10))\n",
    "plt.pcolor(M_char);\n",
    "plt.xticks(range(27),chars);\n",
    "# with graph maybe\n",
    "plt.yticks(range(27),chars);\n",
    "# with graph maybe"
   ]
  },
  {
   "cell_type": "code",
   "execution_count": 62,
   "metadata": {},
   "outputs": [
    {
     "name": "stdout",
     "output_type": "stream",
     "text": [
      "the selected char: u\n"
     ]
    },
    {
     "data": {
      "image/png": "[encoded data removed]",
      "text/plain": [
       "<matplotlib.figure.Figure at 0x116077e10>"
      ]
     },
     "metadata": {},
     "output_type": "display_data"
    }
   ],
   "source": [
    "# For each char\n",
    "ind_initial = np.random.randint(0,n_state,size=1)[0]\n",
    "\n",
    "print 'the selected char: {}'.format(chars[ind_initial])\n",
    "plt.plot(range(M_char.shape[0]),M_char[ind_initial],'.-');\n",
    "\n",
    "plt.xticks(range(M_char.shape[0]),chars);\n",
    "plt.grid();"
   ]
  },
  {
   "cell_type": "markdown",
   "metadata": {},
   "source": [
    "# Markov chain as a generative model?!!\n",
    "## What is the next probable characters for a give charachter\n",
    "\n",
    "\n",
    "# As we will see soon this is not the proper way of talking about Markov Chains"
   ]
  },
  {
   "cell_type": "code",
   "execution_count": 14,
   "metadata": {},
   "outputs": [
    {
     "name": "stdout",
     "output_type": "stream",
     "text": [
      "h\n",
      "e\n",
      "_\n",
      "t\n",
      "h\n",
      "e\n",
      "_\n",
      "t\n",
      "h\n",
      "e\n",
      "_\n",
      "t\n",
      "h\n",
      "e\n",
      "_\n",
      "t\n",
      "h\n",
      "e\n",
      "_\n",
      "t\n",
      "h\n"
     ]
    }
   ],
   "source": [
    "# To see if we can generate something\n",
    "n_state = M_char.shape[0]\n",
    "ind_initial = np.random.randint(0,n_state,size=1)\n",
    "print chars[ind_initial[0]]\n",
    "ind = ind_initial[0]\n",
    "for i in range(20):\n",
    "\n",
    "    \n",
    "    # If we take the most likely next chars, it quickly falls in a loop?!!\n",
    "    ind = np.argmax(M_char[ind])\n",
    "    \n",
    "    \n",
    "    # If we take the next char based on a random choice based on the probabilites \n",
    "#     ind = np.random.choice(range(M_char.shape[0]),size=1,p=M_char[ind])[0]\n",
    "    \n",
    "    print chars[ind]"
   ]
  },
  {
   "cell_type": "code",
   "execution_count": 15,
   "metadata": {},
   "outputs": [
    {
     "name": "stdout",
     "output_type": "stream",
     "text": [
      "f\n",
      "_\n",
      "f\n",
      "i\n",
      "s\n",
      "u\n",
      "t\n",
      "h\n",
      "e\n",
      "_\n",
      "a\n",
      "s\n",
      "t\n",
      "i\n",
      "n\n",
      "d\n",
      "_\n",
      "r\n",
      "i\n",
      "t\n",
      "h\n"
     ]
    }
   ],
   "source": [
    "# To see if we can generate something\n",
    "n_state = M_char.shape[0]\n",
    "ind_initial = np.random.randint(0,n_state,size=1)\n",
    "print chars[ind_initial[0]]\n",
    "ind = ind_initial[0]\n",
    "for i in range(20):\n",
    "\n",
    "    \n",
    "#     If we take the most likely next chars, it quickly falls in a loop?!!\n",
    "#     ind = np.argmax(M_char[ind])\n",
    "    \n",
    "    \n",
    "    # If we take the next char based on a random choice based on the probabilites \n",
    "    ind = np.random.choice(range(M_char.shape[0]),size=1,p=M_char[ind])[0]\n",
    "    \n",
    "    print chars[ind]"
   ]
  },
  {
   "cell_type": "markdown",
   "metadata": {},
   "source": [
    "## at the char level, it is highly unlikely to expect something interesting\n",
    "\n",
    "## As we will see later in this session and later on RNNs it is a matter of long term memory"
   ]
  },
  {
   "cell_type": "markdown",
   "metadata": {},
   "source": [
    "# World level Markov chain\n",
    "## with more depth: higher order Markov chains"
   ]
  },
  {
   "cell_type": "code",
   "execution_count": 17,
   "metadata": {},
   "outputs": [
    {
     "name": "stdout",
     "output_type": "stream",
     "text": [
      "0\n",
      "\n",
      "Three horror stories based loosely on the door\n",
      "1\n",
      "\n",
      "But his acting hits the radio in \"Good Earth\" she shows a side note, when Poncelet apologizes to a style it will creep up\n",
      "2\n",
      "\n",
      "I really enjoyed this film, like me more story! As I said that a TV series 'the Sweeney and as funny nearly 60+ years with very little to be a vicious schemer, just a one-joke moment but by standing there\n",
      "3\n",
      "\n",
      "There are elements of humor as the maestro, his wife while dying; the bad guy to play Aragorn; I love Romy Schneider shines as Binodini, a young girl, who in the year it was a perfect fit for the unique footage about the characters get an overview of apartheid's cruelty in just about the lives of a soldier's mouth how war becomes a masterpiece\n"
     ]
    }
   ],
   "source": [
    "# codes from https://github.com/codebox/markov-text\n",
    "import sys\n",
    "\n",
    "sys.path.insert(0, './markovtext')\n",
    "\n",
    "from db import Db\n",
    "from gen import Generator\n",
    "from parse import Parser\n",
    "from sql import Sql\n",
    "from rnd import Rnd\n",
    "import sys\n",
    "import sqlite3\n",
    "import codecs\n",
    "\n",
    "\n",
    "\n",
    "\n",
    "\n",
    "SENTENCE_SEPARATOR = '.'\n",
    "WORD_SEPARATOR = ' '\n",
    "\n",
    "# args = ['','parse','IMDB2',2]\n",
    "\n",
    "# if (len(args) < 3):\n",
    "#     raise ValueError(usage)\n",
    "mode  = 'gen'\n",
    "name  = './markovtext/IMDB_N2'\n",
    "depth = 3\n",
    "\n",
    "name  = './markovtext/IMDB'+ str(depth)\n",
    "count = 4\n",
    "\n",
    "\n",
    "if mode == 'parse':\n",
    "    file_name = './Data/IMDB_data/pos.txt'\n",
    "\n",
    "    db = Db(sqlite3.connect(name + '.db'), Sql())\n",
    "    db.setup(depth)\n",
    "\n",
    "    txt = codecs.open(file_name, 'r', 'utf-8').read()\n",
    "    Parser(name, db, SENTENCE_SEPARATOR, WORD_SEPARATOR).parse(txt)\n",
    "\n",
    "elif mode == 'gen':    \n",
    "    db = Db(sqlite3.connect(name + '.db'), Sql())\n",
    "    generator = Generator(name, db, Rnd())\n",
    "    for i in range(0, count):\n",
    "        print \"{}\\n\".format(i)\n",
    "        print generator.generate(WORD_SEPARATOR)\n",
    "        \n",
    "\n",
    "else:\n",
    "\traise ValueError(usage)"
   ]
  },
  {
   "cell_type": "markdown",
   "metadata": {},
   "source": [
    "## Note: BE AWARE OF STATE SPACE EXPLOSION!"
   ]
  },
  {
   "cell_type": "markdown",
   "metadata": {
    "collapsed": true
   },
   "source": [
    "<hr style=\"height:1px;border:none;color:stillblue;background-color:red;\" />\n",
    "# A quick conclusion on this part!\n",
    "# As it can be seen the generated results are far from being reasonable!\n",
    "\n",
    "# However, they are good for generating fake and confusing news!\n",
    "\n",
    "\n",
    "<hr style=\"height:1px;border:none;color:stillblue;background-color:red;\" />\n",
    "### In fact, the problem of \"generative models\" is still an open question, unlike \"discriminative models\"\n",
    "\n",
    "\n",
    "\n",
    "# <a></a>\n",
    "# <a></a>\n",
    "\n",
    "\n",
    "<hr style=\"height:1px;border:none;color:stillblue;background-color:red;\" />\n",
    "# The second view two Markov chains as a representational body\n",
    "\n"
   ]
  },
  {
   "cell_type": "markdown",
   "metadata": {},
   "source": [
    "# Two types of representation of objects\n",
    "\n",
    "## 1- Representation of objects based on a priori given features \n",
    "### Based on the idea of \"Abstract Universals\"\n",
    "![](Images/FeatureBasedRepresentation.jpg)\n",
    "\n",
    "## Limits:\n",
    "* ** features might be arbitrary**\n",
    "* ** if few features, the space become small with size of the data**\n",
    "* ** if many features, observation might become expensive**\n",
    "\n",
    "## Important assumption: Independence of observations! \n",
    "## Fits very well with rule based and mechanical societies\n",
    "\n",
    "\n",
    "\n",
    "<hr style=\"height:3px;border:none;color:stillblue;background-color:black;\" />\n",
    "\n",
    "## 2- Representation of objects based on the context: Relational Representation\n",
    "### Based on the idea of Concrete Universals\n",
    "![](Images/RelationalRepresentation.jpg)\n",
    "\n",
    "\n",
    "## Important assumption: No independence in observations! \n",
    "## Fits well with quantum societies\n",
    "\n",
    "\n",
    "## Benefits:\n",
    "* ** No need to external abstract definitions**\n",
    "* ** State space expands with the size of data **\n",
    "\n",
    "## Limits:\n",
    "* ** Data intensive**\n",
    "\n"
   ]
  },
  {
   "cell_type": "markdown",
   "metadata": {},
   "source": [
    "# Relational Representation\n",
    "# Markov chains as the early pioneering work in this direction"
   ]
  },
  {
   "cell_type": "markdown",
   "metadata": {},
   "source": [
    "![](Images/8_Markov_in_time.png)"
   ]
  },
  {
   "cell_type": "markdown",
   "metadata": {},
   "source": [
    "### SOME MORE HISTORICAL MILESTONES: In Linguistic this is aslso called Distributional Semantic Models with references to (de Saussure, 1966; Harris, 1951 and Wittgenstein, 1963; Firth, 1957) \n",
    "sources from https://www.inf.uni-hamburg.de/en/inst/ab/lt/publications/cogalex-invited-biemann.pdf\n",
    "\n",
    "\n",
    "## Relational Representation is the case in many applications:\n",
    "* pixels in an image and their neighboring cells\n",
    "* A house and its neigborhood\n",
    "* A person and his friends\n",
    "* combination of different elements in a floor plan or building system\n",
    "* Combination of different elements in a chemical compound\n",
    "* an ingridient in a food recepie\n",
    "* ...\n"
   ]
  },
  {
   "cell_type": "markdown",
   "metadata": {},
   "source": [
    "# Important concept: co-occurance matrix\n",
    "### Now if we take each row as the representation of each char, we can assume that we have a proper representation. \n",
    "### In fact, we have a matrix form for our data, where each object (e.g. char or a word) is being represented based on its normalized co-occurance matrix \n"
   ]
  },
  {
   "cell_type": "markdown",
   "metadata": {},
   "source": [
    "### Char markov chain"
   ]
  },
  {
   "cell_type": "code",
   "execution_count": 18,
   "metadata": {},
   "outputs": [
    {
     "name": "stdout",
     "output_type": "stream",
     "text": [
      "the selected char: w\n"
     ]
    },
    {
     "data": {
      "image/png": "[encoded data removed]",
      "text/plain": [
       "<matplotlib.figure.Figure at 0x10f8eae50>"
      ]
     },
     "metadata": {},
     "output_type": "display_data"
    }
   ],
   "source": [
    "# For each char\n",
    "ind_initial = np.random.randint(0,n_state,size=1)[0]\n",
    "\n",
    "print 'the selected char: {}'.format(chars[ind_initial])\n",
    "plt.plot(range(M_char.shape[0]),M_char[ind_initial],'.-');\n",
    "\n",
    "plt.xticks(range(M_char.shape[0]),chars);\n",
    "plt.grid();"
   ]
  },
  {
   "cell_type": "markdown",
   "metadata": {},
   "source": [
    "### Let's train a SOM with this matrix and see how it works"
   ]
  },
  {
   "cell_type": "code",
   "execution_count": 19,
   "metadata": {},
   "outputs": [
    {
     "name": "stderr",
     "output_type": "stream",
     "text": [
      "/Users/SVM/anaconda/envs/tensorflow/lib/python2.7/site-packages/sklearn/utils/deprecation.py:52: DeprecationWarning: Class RandomizedPCA is deprecated; RandomizedPCA was deprecated in 0.18 and will be removed in 0.20. Use PCA(svd_solver='randomized') instead. The new implementation DOES NOT store whiten ``components_``. Apply transform to get them.\n",
      "  warnings.warn(msg, category=DeprecationWarning)\n",
      "/Users/SVM/anaconda/envs/tensorflow/lib/python2.7/site-packages/sklearn/utils/deprecation.py:52: DeprecationWarning: Class RandomizedPCA is deprecated; RandomizedPCA was deprecated in 0.18 and will be removed in 0.20. Use PCA(svd_solver='randomized') instead. The new implementation DOES NOT store whiten ``components_``. Apply transform to get them.\n",
      "  warnings.warn(msg, category=DeprecationWarning)\n"
     ]
    },
    {
     "name": "stdout",
     "output_type": "stream",
     "text": [
      "\n",
      "Total time elapsed: 3.248000 secodns\n",
      "final quantization error: 0.003545\n"
     ]
    }
   ],
   "source": [
    "import sompylib.sompy as SOM\n",
    "\n",
    "msz11 =20\n",
    "msz10 = 20\n",
    "\n",
    "X = M_char\n",
    "\n",
    "som_char = SOM.SOM('', X, mapsize = [msz10, msz11],norm_method = 'var',initmethod='pca')\n",
    "# som1 = SOM1.SOM('', X, mapsize = [msz10, msz11],norm_method = 'var',initmethod='pca')\n",
    "som_char.init_map()\n",
    "som_char.train(n_job = 1, shared_memory = 'no',verbose='final')\n",
    "codebook_char = som_char.codebook[:]\n",
    "codebook_char_n = SOM.denormalize_by(som_char.data_raw, codebook_char, n_method = 'var')"
   ]
  },
  {
   "cell_type": "code",
   "execution_count": 20,
   "metadata": {},
   "outputs": [],
   "source": [
    "# we projects all the vectors in SOM and visualize it \n",
    "xy = som_char.ind_to_xy(som_char.project_data(X))"
   ]
  },
  {
   "cell_type": "code",
   "execution_count": 21,
   "metadata": {},
   "outputs": [
    {
     "data": {
      "text/plain": [
       "([], <a list of 0 Text yticklabel objects>)"
      ]
     },
     "execution_count": 21,
     "metadata": {},
     "output_type": "execute_result"
    },
    {
     "data": {
      "image/png": "[encoded data removed]",
      "text/plain": [
       "<matplotlib.figure.Figure at 0x116109c10>"
      ]
     },
     "metadata": {},
     "output_type": "display_data"
    }
   ],
   "source": [
    "ax = plt.subplot(1,1,1)\n",
    "for i in range(len(X)):\n",
    "    plt.annotate(chars[i], (xy[i,1],xy[i,0]),size=20, va=\"center\")\n",
    "    plt.xlim((0,som_char.mapsize[0]))\n",
    "    plt.ylim((0,som_char.mapsize[0]))\n",
    "plt.xticks([])\n",
    "plt.yticks([])"
   ]
  },
  {
   "cell_type": "markdown",
   "metadata": {},
   "source": [
    "## In the char model, we can't make sure if it makes sense, maybe at the world level, it works\n",
    "### Nevertheless, we only represent each chars based on its relation with the next possible chars\n",
    "### And this means to loose lots of valuable data\n",
    "![](Images/RelationalMarkov.jpg)"
   ]
  },
  {
   "cell_type": "markdown",
   "metadata": {
    "collapsed": true
   },
   "source": [
    "## At the word level, defnitely we get better results, but..\n",
    "\n",
    "# We will have \"state space explosion\" with few amount of texts\n",
    "# Therefore, we need to perform some types of dimensionality reduction. \n",
    "### For example, to use PCA or  similar methods (LSA,LDA,SVD,...) to reduce the dimensionality.\n",
    "# Problems: Scalability and speed, memory,...!\n",
    "\n",
    "# <a></a>\n",
    "# <a></a>\n",
    "# <a></a>\n"
   ]
  },
  {
   "cell_type": "markdown",
   "metadata": {
    "collapsed": true
   },
   "source": [
    "<span style=\"color:red;font-size: 3em;\"> Neural embeddings!</span>\n",
    "<hr style=\"height:1px;border:none;color:stillblue;background-color:steelblue;\" />\n",
    "# A game changer idea: do not build the co-occurence matrix explicitly!\n",
    "### Instead learn a classifier that predicts a word given a context around the word or the other way around.\n",
    "### (Bengio et al. 2003) and Mikolov et al., 2013 known as Word2vec\n",
    "\n",
    "### In word2Vec there are two main models\n",
    "### <center> CBOW </center>\n",
    "![](Images/CBOW.png)\n",
    "\n",
    "\n",
    "\n",
    "### <center> Skipgram </center>\n",
    "![](Images/Skip-gram.png)\n",
    "\n",
    "\n",
    "* ** We have v unique words**\n",
    "* **each word is a one-hot v dimensional vector**\n",
    "* **we have Two matrices: W1(vxn) ,W2(nxv)**\n",
    "* **n is the dimension we choose (50-1000)**\n",
    "* **read arrows as dot product**\n",
    "* ** there is an objective function that implies: given a word the network should predict the contexts and vice versa**\n",
    "* ** if one can write a parametric objective function, there are usually several methods to find an optimum value for it**\n",
    "* ** In majorty of machine learning methods they use Stochastic Gradient Descent (SGD)**\n",
    "* **After training the W1 has amazing features**\n",
    "\n",
    "\n",
    "* Think about of SGD as an extension to Least Square Method in Session 3!\n",
    "\n",
    "A visulization of the process: https://ronxin.github.io/wevi/\n",
    "\n",
    "** Details about training: http://www-personal.umich.edu/~ronxin/pdf/w2vexp.pdf**"
   ]
  },
  {
   "cell_type": "code",
   "execution_count": 89,
   "metadata": {},
   "outputs": [],
   "source": [
    "## Just a hint to Gradient Descent"
   ]
  },
  {
   "cell_type": "code",
   "execution_count": 22,
   "metadata": {},
   "outputs": [
    {
     "name": "stdout",
     "output_type": "stream",
     "text": [
      "9.97610697152e-08\n"
     ]
    },
    {
     "data": {
      "image/png": "[encoded data removed]",
      "text/plain": [
       "<matplotlib.figure.Figure at 0x11607c210>"
      ]
     },
     "metadata": {},
     "output_type": "display_data"
    }
   ],
   "source": [
    "x_old = 10\n",
    "x_new = np.random.randint(-10,high=20)\n",
    "\n",
    "eps = .0051\n",
    "precision = .0000001\n",
    "\n",
    "# y = x^2\n",
    "def f(x):\n",
    "    return np.power(x,2)\n",
    "#     return np.power(x,2) -3*np.power(x,3)  + 2\n",
    "\n",
    "def f_deriv(x):\n",
    "    return 2*np.power(x,1)\n",
    "#     return 2*np.power(x,1) - 9*np.power(x,2)\n",
    "\n",
    "\n",
    "\n",
    "counter = 0\n",
    "while abs(f(x_old)-f(x_new))>precision:\n",
    "    x_old = x_new\n",
    "    x_new = x_old - eps*f_deriv(x_old)\n",
    "    plt.plot(x_new,f(x_new),'or',markersize=.015*counter+1.94)\n",
    "    counter = counter + 1\n",
    "print f(x_old)-f(x_new) \n",
    "\n",
    "for x in np.linspace(-10,20,100):\n",
    "    plt.plot(x,f(x),'.b',markersize=1)"
   ]
  },
  {
   "cell_type": "markdown",
   "metadata": {},
   "source": [
    "### in principle, in most of machine learning methods, we have a loss function which is differetiable to all the parameters.\n",
    "### Therefore, using the training data we gradually update the parameters toward a direction that minimizes the loss function\n",
    "\n",
    "### we will discuss it in more details later on neural networks\n",
    "### For now let's go back to Word2vec"
   ]
  },
  {
   "cell_type": "markdown",
   "metadata": {},
   "source": [
    "# After traning the model now we have a dense vector based representation for each world in our corpus. \n",
    "<hr style=\"height:3px;border:none;color:stillblue;background-color:red;\" />\n",
    "\n",
    "## Think about it in terms of data compression!\n",
    "## Example: a small corpus may have around 50K unique words. Now each world can be represented easily with a 50-100 dimensional vector. In a way now we are going back to the first type of object representation!\n",
    "<hr style=\"height:3px;border:none;color:stillblue;background-color:red;\" />\n",
    "\n",
    "\n",
    "## As expected this dense vectors keep a lot of interesting features about the data\n",
    "\n",
    "# Demo: https://rare-technologies.com/word2vec-tutorial/"
   ]
  },
  {
   "cell_type": "code",
   "execution_count": 23,
   "metadata": {},
   "outputs": [],
   "source": [
    "#### We use an amazing library called, gensim\n",
    "import gensim\n",
    "from gensim import corpora, models, similarities\n",
    "import logging\n",
    "logging.basicConfig(format='%(asctime)s : %(levelname)s : %(message)s', level=logging.INFO)"
   ]
  },
  {
   "cell_type": "code",
   "execution_count": 24,
   "metadata": {
    "collapsed": true
   },
   "outputs": [],
   "source": [
    "# from gensim.models import word2vec\n",
    "# # get the pretrained vector from https://code.google.com/archive/p/word2vec/\n",
    "# Google_w2v = word2vec.Word2Vec.load_word2vec_format('/Users/SVM/Downloads/GoogleNews-vectors-negative300.bin', binary=True)"
   ]
  },
  {
   "cell_type": "code",
   "execution_count": null,
   "metadata": {},
   "outputs": [],
   "source": [
    "# You can load pretrained vectors or train it based on your data set"
   ]
  },
  {
   "cell_type": "code",
   "execution_count": 25,
   "metadata": {
    "collapsed": true
   },
   "outputs": [],
   "source": [
    "# print Google_w2v.most_similar(['girl', 'father'], ['boy'], topn=1)\n",
    "# print Google_w2v.most_similar(positive=['woman', 'king'], negative=['man'], topn=10)"
   ]
  },
  {
   "cell_type": "markdown",
   "metadata": {},
   "source": [
    "# What can be done with Word2vec?\n",
    "## In general the learned densed vectors can be used in any other tasks that require fixed lenght vectors. \n",
    "### Some of interesting applications:\n",
    "* **In Fashion industry:**\n",
    "    * http://multithreaded.stitchfix.com/blog/2015/03/11/word-is-worth-a-thousand-vectors/\n",
    "    * http://developers.lyst.com/2014/11/11/word-embeddings-for-fashion/\n",
    " \n",
    "* ** Any recommendation system**\n",
    "    * **music selection considering user's playlists**\n",
    "    * **Shopping baskets**\n",
    "* **Graphical data: Deep Walk:**\n",
    "    * https://sites.google.com/site/bryanperozzi/projects/deepwalk\n",
    "* **Sentiment Analysis**\n",
    "\n",
    "* ** Consider the flow of people in a city: words could be buildings, street, neighborhoods, regions, etc.**\n",
    "* ** The example of GPS traces of cars in the previous session**\n",
    "* ** A person and his friends**\n",
    "* ** combination of different elements in a floor plan or building system**\n",
    "* ** Combination of different elements in a chemical compound**\n",
    "* ** an ingridient in a food recepie depending on what you have at home**\n",
    "* ** Authors/papers networks**\n",
    "* ** Stock Market with several symbols?**\n",
    "* ...\n",
    "\n"
   ]
  },
  {
   "cell_type": "markdown",
   "metadata": {},
   "source": [
    "# Movie Reviews Sentiment Analysis"
   ]
  },
  {
   "cell_type": "code",
   "execution_count": 26,
   "metadata": {},
   "outputs": [],
   "source": [
    "%matplotlib inline\n",
    "from sklearn.cross_validation import train_test_split\n",
    "from gensim.models.word2vec import Word2Vec\n",
    "import numpy as np\n",
    "with open('/All_Files/Files/Data/gensim/sample_Data/IMDB_data/pos.txt', 'r') as infile:\n",
    "    pos_tweets = infile.readlines()\n",
    "\n",
    "with open('/All_Files/Files/Data/gensim/sample_Data/IMDB_data/neg.txt', 'r') as infile:\n",
    "    neg_tweets = infile.readlines()\n",
    "    \n",
    "with open('/All_Files/Files/Data/gensim/sample_Data/IMDB_data/unsup.txt','r') as infile:\n",
    "    unsup_reviews = infile.readlines()\n",
    "\n",
    "#use 1 for positive sentiment, 0 for negative\n",
    "y = np.concatenate((np.ones(len(pos_tweets)), np.zeros(len(neg_tweets))))\n",
    "\n",
    "x_train, x_test, y_train, y_test = train_test_split(np.concatenate((pos_tweets, neg_tweets)), y, test_size=0.5)\n",
    "\n",
    "#Do some very minor text preprocessing\n",
    "\n",
    "\n",
    "\n",
    "def cleanText(corpus):\n",
    "    import string\n",
    "    validchars = string.ascii_letters + string.digits + ' '\n",
    "    punctuation = \"\"\".,:;@(){}[]$1234567890\"\"\"\n",
    "    corpus = [z.lower().replace('\\n','') for z in corpus]\n",
    "    corpus = [z.replace('<br />', ' ') for z in corpus]\n",
    "    \n",
    "    for c in punctuation:\n",
    "        corpus =[z.replace(c, '') for z in corpus]\n",
    "    \n",
    "\n",
    "    corpus = [''.join(ch for ch in z if ch in validchars) for z in corpus]\n",
    "    \n",
    "    #treat punctuation as individual words\n",
    "    for c in punctuation:\n",
    "        corpus = [z.replace(c, ' %s '%c) for z in corpus]\n",
    "    corpus = [z.split() for z in corpus]\n",
    "#     corpus = [z.replace(' ', '_') for z in corpus]\n",
    "    return corpus\n",
    "\n",
    "\n",
    "x_train_c = cleanText(x_train)\n",
    "x_test_c = cleanText(x_test)\n",
    "unsup_  = cleanText(unsup_reviews)\n",
    "\n"
   ]
  },
  {
   "cell_type": "markdown",
   "metadata": {},
   "source": [
    "## Train Word2vec model here"
   ]
  },
  {
   "cell_type": "code",
   "execution_count": 33,
   "metadata": {},
   "outputs": [
    {
     "name": "stderr",
     "output_type": "stream",
     "text": [
      "2017-11-28 11:26:04,613 : WARNING : consider setting layer size to a multiple of 4 for greater performance\n",
      "2017-11-28 11:26:04,629 : INFO : collecting all words and their counts\n",
      "2017-11-28 11:26:04,630 : INFO : PROGRESS: at sentence #0, processed 0 words, keeping 0 word types\n",
      "2017-11-28 11:26:05,017 : INFO : PROGRESS: at sentence #10000, processed 2276370 words, keeping 67769 word types\n",
      "2017-11-28 11:26:05,384 : INFO : PROGRESS: at sentence #20000, processed 4552346 words, keeping 97737 word types\n",
      "2017-11-28 11:26:05,622 : INFO : collected 110167 word types from a corpus of 5682885 raw words and 25000 sentences\n",
      "2017-11-28 11:26:05,623 : INFO : Loading a fresh vocabulary\n",
      "2017-11-28 11:26:05,721 : INFO : min_count=5 retains 30401 unique words (27% of original 110167, drops 79766)\n",
      "2017-11-28 11:26:05,740 : INFO : min_count=5 leaves 5565097 word corpus (97% of original 5682885, drops 117788)\n",
      "2017-11-28 11:26:05,815 : INFO : deleting the raw counts dictionary of 110167 items\n",
      "2017-11-28 11:26:05,819 : INFO : sample=0.001 downsamples 47 most-common words\n",
      "2017-11-28 11:26:05,820 : INFO : downsampling leaves estimated 4172504 word corpus (75.0% of prior 5565097)\n",
      "2017-11-28 11:26:05,821 : INFO : estimated required memory for 30401 words and 150 dimensions: 51681700 bytes\n",
      "2017-11-28 11:26:05,904 : INFO : resetting layer weights\n",
      "2017-11-28 11:26:06,217 : INFO : training model with 3 workers on 30401 vocabulary and 150 features, using sg=0 hs=0 sample=0.001 negative=5 window=5\n",
      "2017-11-28 11:26:07,221 : INFO : PROGRESS: at 7.16% examples, 1496396 words/s, in_qsize 5, out_qsize 0\n",
      "2017-11-28 11:26:08,226 : INFO : PROGRESS: at 14.10% examples, 1463361 words/s, in_qsize 6, out_qsize 0\n",
      "2017-11-28 11:26:09,229 : INFO : PROGRESS: at 21.25% examples, 1475155 words/s, in_qsize 4, out_qsize 0\n",
      "2017-11-28 11:26:10,231 : INFO : PROGRESS: at 28.42% examples, 1477354 words/s, in_qsize 4, out_qsize 1\n",
      "2017-11-28 11:26:11,231 : INFO : PROGRESS: at 35.39% examples, 1474334 words/s, in_qsize 5, out_qsize 0\n",
      "2017-11-28 11:26:12,231 : INFO : PROGRESS: at 42.42% examples, 1472612 words/s, in_qsize 6, out_qsize 0\n",
      "2017-11-28 11:26:13,232 : INFO : PROGRESS: at 49.44% examples, 1470636 words/s, in_qsize 5, out_qsize 0\n",
      "2017-11-28 11:26:14,233 : INFO : PROGRESS: at 55.92% examples, 1456142 words/s, in_qsize 6, out_qsize 0\n",
      "2017-11-28 11:26:15,239 : INFO : PROGRESS: at 62.09% examples, 1436029 words/s, in_qsize 6, out_qsize 0\n",
      "2017-11-28 11:26:16,245 : INFO : PROGRESS: at 68.94% examples, 1435193 words/s, in_qsize 6, out_qsize 1\n",
      "2017-11-28 11:26:17,248 : INFO : PROGRESS: at 75.85% examples, 1435093 words/s, in_qsize 5, out_qsize 0\n",
      "2017-11-28 11:26:18,250 : INFO : PROGRESS: at 82.15% examples, 1424716 words/s, in_qsize 5, out_qsize 0\n",
      "2017-11-28 11:26:19,254 : INFO : PROGRESS: at 88.39% examples, 1414285 words/s, in_qsize 6, out_qsize 0\n",
      "2017-11-28 11:26:20,258 : INFO : PROGRESS: at 94.80% examples, 1408634 words/s, in_qsize 6, out_qsize 0\n",
      "2017-11-28 11:26:21,033 : INFO : worker thread finished; awaiting finish of 2 more threads\n",
      "2017-11-28 11:26:21,034 : INFO : worker thread finished; awaiting finish of 1 more threads\n",
      "2017-11-28 11:26:21,037 : INFO : worker thread finished; awaiting finish of 0 more threads\n",
      "2017-11-28 11:26:21,037 : INFO : training on 28414425 raw words (20860997 effective words) took 14.8s, 1407770 effective words/s\n"
     ]
    },
    {
     "data": {
      "text/plain": [
       "20860997"
      ]
     },
     "execution_count": 33,
     "metadata": {},
     "output_type": "execute_result"
    }
   ],
   "source": [
    "n_dim = 150\n",
    "#Initialize model and build vocab\n",
    "imdb_w2v = Word2Vec(size=n_dim)\n",
    "\n",
    "\n",
    "# imdb_w2v.build_vocab(np.concatenate((unsup_,x_train)))\n",
    "imdb_w2v.build_vocab(x_train_c)\n",
    "\n",
    "# Train the model over train_reviews (this may take several minutes)\n",
    "# imdb_w2v.train(np.concatenate((unsup_,x_train)))\n",
    "imdb_w2v.train(x_train_c,total_examples=imdb_w2v.corpus_count,epochs=imdb_w2v.iter)"
   ]
  },
  {
   "cell_type": "code",
   "execution_count": 56,
   "metadata": {},
   "outputs": [
    {
     "name": "stdout",
     "output_type": "stream",
     "text": [
      "[('book', 0.7908188104629517), ('adaptation', 0.7196881771087646), ('dickens', 0.6851674318313599), ('author', 0.6722975373268127), ('adapted', 0.6581281423568726)]\n"
     ]
    }
   ],
   "source": [
    "print imdb_w2v.most_similar(['novel'], topn=5)\n",
    "# print imdb_w2v.most_similar(positive=['woman', 'king'], negative=['man'], topn=10)"
   ]
  },
  {
   "cell_type": "markdown",
   "metadata": {},
   "source": [
    "# To make DocVec based on SOMind\n",
    "### Now the question is how to make prediction at the document level"
   ]
  },
  {
   "cell_type": "markdown",
   "metadata": {},
   "source": [
    "### 1- The simple way that works well and it is very fast is to sum all the vectors in a document and train a predictor\n",
    "### 2- Further, you can cluster the vectors and use the cluster vectors as representation of the documents\n",
    "### 3- Train a SOM by word-vectors and then use the activation of this SOM as the representation of the documents (Similar to the idea of WEBSOM)\n"
   ]
  },
  {
   "cell_type": "markdown",
   "metadata": {},
   "source": [
    "# DEMO of an application for news clustering"
   ]
  },
  {
   "cell_type": "markdown",
   "metadata": {
    "collapsed": true
   },
   "source": [
    "## Some extensions\n",
    "* **Doc2vec**\n",
    "    * https://arxiv.org/pdf/1405.4053v2.pdf\n",
    "* **Thought vector: In the same direction in other compression applications**\n"
   ]
  }
 ],
 "metadata": {
  "anaconda-cloud": {},
  "kernelspec": {
   "display_name": "Python [default]",
   "language": "python",
   "name": "python2"
  },
  "language_info": {
   "codemirror_mode": {
    "name": "ipython",
    "version": 2
   },
   "file_extension": ".py",
   "mimetype": "text/x-python",
   "name": "python",
   "nbconvert_exporter": "python",
   "pygments_lexer": "ipython2",
   "version": "2.7.13"
  }
 },
 "nbformat": 4,
 "nbformat_minor": 1
}
